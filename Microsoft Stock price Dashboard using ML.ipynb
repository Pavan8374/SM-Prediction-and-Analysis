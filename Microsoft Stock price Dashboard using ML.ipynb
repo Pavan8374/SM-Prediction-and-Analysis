{
 "cells": [
  {
   "cell_type": "code",
   "execution_count": 1,
   "metadata": {},
   "outputs": [],
   "source": [
    "# The goal of this project is to understand stock dataset of a particular company and then analyse\n",
    "# the dataset to predict the future price. The prediction of stock market is very cumbersome process. \n",
    "# So, in this work I am implementing Support Vector Regression method. I am using three models,\n",
    "# Linear Regression, Radical Basic Function and Polynomial Regression models."
   ]
  },
  {
   "cell_type": "code",
   "execution_count": 2,
   "metadata": {},
   "outputs": [],
   "source": [
    "# Importing dependencies\n",
    "import requests\n",
    "import json\n",
    "import csv\n",
    "import numpy as np\n",
    "import pandas as pd"
   ]
  },
  {
   "cell_type": "code",
   "execution_count": 3,
   "metadata": {},
   "outputs": [],
   "source": [
    "# First of all I am fetching Data from Alpha Vantage API,\n",
    "# I am fetching Stock data for Microsoft since last 20years to till date."
   ]
  },
  {
   "cell_type": "code",
   "execution_count": 4,
   "metadata": {},
   "outputs": [
    {
     "name": "stdout",
     "output_type": "stream",
     "text": [
      "<Response [200]>\n"
     ]
    },
    {
     "data": {
      "text/html": [
       "<div>\n",
       "<style scoped>\n",
       "    .dataframe tbody tr th:only-of-type {\n",
       "        vertical-align: middle;\n",
       "    }\n",
       "\n",
       "    .dataframe tbody tr th {\n",
       "        vertical-align: top;\n",
       "    }\n",
       "\n",
       "    .dataframe thead th {\n",
       "        text-align: right;\n",
       "    }\n",
       "</style>\n",
       "<table border=\"1\" class=\"dataframe\">\n",
       "  <thead>\n",
       "    <tr style=\"text-align: right;\">\n",
       "      <th></th>\n",
       "      <th>timestamp</th>\n",
       "      <th>open</th>\n",
       "      <th>high</th>\n",
       "      <th>low</th>\n",
       "      <th>close</th>\n",
       "      <th>volume</th>\n",
       "    </tr>\n",
       "  </thead>\n",
       "  <tbody>\n",
       "    <tr>\n",
       "      <th>1</th>\n",
       "      <td>2022-07-06</td>\n",
       "      <td>263.7500</td>\n",
       "      <td>267.9900</td>\n",
       "      <td>262.4000</td>\n",
       "      <td>266.2100</td>\n",
       "      <td>23824419</td>\n",
       "    </tr>\n",
       "    <tr>\n",
       "      <th>2</th>\n",
       "      <td>2022-07-05</td>\n",
       "      <td>256.1600</td>\n",
       "      <td>262.9800</td>\n",
       "      <td>254.7400</td>\n",
       "      <td>262.8500</td>\n",
       "      <td>22971634</td>\n",
       "    </tr>\n",
       "    <tr>\n",
       "      <th>3</th>\n",
       "      <td>2022-07-01</td>\n",
       "      <td>256.3900</td>\n",
       "      <td>259.7700</td>\n",
       "      <td>254.6100</td>\n",
       "      <td>259.5800</td>\n",
       "      <td>22837692</td>\n",
       "    </tr>\n",
       "    <tr>\n",
       "      <th>4</th>\n",
       "      <td>2022-06-30</td>\n",
       "      <td>257.0500</td>\n",
       "      <td>259.5300</td>\n",
       "      <td>252.9000</td>\n",
       "      <td>256.8300</td>\n",
       "      <td>31730868</td>\n",
       "    </tr>\n",
       "    <tr>\n",
       "      <th>5</th>\n",
       "      <td>2022-06-29</td>\n",
       "      <td>257.5900</td>\n",
       "      <td>261.9700</td>\n",
       "      <td>255.7600</td>\n",
       "      <td>260.2600</td>\n",
       "      <td>20069839</td>\n",
       "    </tr>\n",
       "  </tbody>\n",
       "</table>\n",
       "</div>"
      ],
      "text/plain": [
       "0   timestamp      open      high       low     close    volume\n",
       "1  2022-07-06  263.7500  267.9900  262.4000  266.2100  23824419\n",
       "2  2022-07-05  256.1600  262.9800  254.7400  262.8500  22971634\n",
       "3  2022-07-01  256.3900  259.7700  254.6100  259.5800  22837692\n",
       "4  2022-06-30  257.0500  259.5300  252.9000  256.8300  31730868\n",
       "5  2022-06-29  257.5900  261.9700  255.7600  260.2600  20069839"
      ]
     },
     "execution_count": 4,
     "metadata": {},
     "output_type": "execute_result"
    }
   ],
   "source": [
    "# Collecting stock data of Microsoft using Alpha Vantage API\n",
    "CSV_URL =\"https://www.alphavantage.co/query?function=TIME_SERIES_DAILY&symbol=MSFT&apikey=NR8HXOOB06DUO2M3&datatype=csv&outputsize=full\"\n",
    "with requests.Session() as s:\n",
    "    download = s.get(CSV_URL)\n",
    "    print(download)\n",
    "    decoded_content = download.content.decode('utf-8')\n",
    "\n",
    "    cr = csv.reader(decoded_content.splitlines(), delimiter=',')\n",
    "    df = pd.DataFrame(cr)\n",
    "df\n",
    "new_header = df.iloc[0] #grab the first row for the header\n",
    "df = df[1:] #take the data less the header row\n",
    "df.columns = new_header\n",
    "df.head()"
   ]
  },
  {
   "cell_type": "code",
   "execution_count": 5,
   "metadata": {},
   "outputs": [
    {
     "name": "stdout",
     "output_type": "stream",
     "text": [
      "0\n",
      "timestamp    object\n",
      "open         object\n",
      "high         object\n",
      "low          object\n",
      "close        object\n",
      "volume       object\n",
      "dtype: object\n"
     ]
    }
   ],
   "source": [
    "# Once the data is collected I am applying Data Preprocessing methods to clean data.\n",
    "# Data Type of the columns\n",
    "dataTypeOfColumns = df.dtypes\n",
    "print(dataTypeOfColumns)"
   ]
  },
  {
   "cell_type": "code",
   "execution_count": 6,
   "metadata": {},
   "outputs": [
    {
     "name": "stdout",
     "output_type": "stream",
     "text": [
      "timestamp - True\n",
      "open - False\n",
      "high - False\n",
      "low - False\n",
      "close - False\n",
      "volume - False\n"
     ]
    }
   ],
   "source": [
    "# Checking if columns are unique column\n",
    "columns = list(df)\n",
    "for i in columns:\n",
    "    print(i , \"-\", df[i].nunique() == df[i].count())"
   ]
  },
  {
   "cell_type": "code",
   "execution_count": 7,
   "metadata": {},
   "outputs": [
    {
     "data": {
      "text/plain": [
       "False"
      ]
     },
     "execution_count": 7,
     "metadata": {},
     "output_type": "execute_result"
    }
   ],
   "source": [
    "# Finding if there is any NaN value\n",
    "df.isnull().values.any()"
   ]
  },
  {
   "cell_type": "code",
   "execution_count": 8,
   "metadata": {},
   "outputs": [
    {
     "data": {
      "text/plain": [
       "0\n",
       "timestamp    datetime64[ns]\n",
       "open                float64\n",
       "high                float64\n",
       "low                 float64\n",
       "close               float64\n",
       "volume                int32\n",
       "dtype: object"
      ]
     },
     "execution_count": 8,
     "metadata": {},
     "output_type": "execute_result"
    }
   ],
   "source": [
    "# Updating Datatypes of the columns\n",
    "df['timestamp'] = pd.to_datetime(df['timestamp'])\n",
    "df.open=df.open.astype(float)\n",
    "df.high=df.high.astype(float)\n",
    "df.low=df.low.astype(float)\n",
    "df.close=df.close.astype(float)\n",
    "df.volume=df.volume.astype(int)\n",
    "df.dtypes"
   ]
  },
  {
   "cell_type": "code",
   "execution_count": 9,
   "metadata": {},
   "outputs": [
    {
     "data": {
      "text/html": [
       "<div>\n",
       "<style scoped>\n",
       "    .dataframe tbody tr th:only-of-type {\n",
       "        vertical-align: middle;\n",
       "    }\n",
       "\n",
       "    .dataframe tbody tr th {\n",
       "        vertical-align: top;\n",
       "    }\n",
       "\n",
       "    .dataframe thead th {\n",
       "        text-align: right;\n",
       "    }\n",
       "</style>\n",
       "<table border=\"1\" class=\"dataframe\">\n",
       "  <thead>\n",
       "    <tr style=\"text-align: right;\">\n",
       "      <th></th>\n",
       "      <th>timestamp</th>\n",
       "      <th>open</th>\n",
       "      <th>high</th>\n",
       "      <th>low</th>\n",
       "      <th>close</th>\n",
       "      <th>volume</th>\n",
       "      <th>average_value</th>\n",
       "    </tr>\n",
       "  </thead>\n",
       "  <tbody>\n",
       "    <tr>\n",
       "      <th>1</th>\n",
       "      <td>2022-07-06</td>\n",
       "      <td>263.750</td>\n",
       "      <td>267.99</td>\n",
       "      <td>262.40</td>\n",
       "      <td>266.21</td>\n",
       "      <td>23824419</td>\n",
       "      <td>265.195</td>\n",
       "    </tr>\n",
       "    <tr>\n",
       "      <th>2</th>\n",
       "      <td>2022-07-05</td>\n",
       "      <td>256.160</td>\n",
       "      <td>262.98</td>\n",
       "      <td>254.74</td>\n",
       "      <td>262.85</td>\n",
       "      <td>22971634</td>\n",
       "      <td>258.860</td>\n",
       "    </tr>\n",
       "    <tr>\n",
       "      <th>3</th>\n",
       "      <td>2022-07-01</td>\n",
       "      <td>256.390</td>\n",
       "      <td>259.77</td>\n",
       "      <td>254.61</td>\n",
       "      <td>259.58</td>\n",
       "      <td>22837692</td>\n",
       "      <td>257.190</td>\n",
       "    </tr>\n",
       "    <tr>\n",
       "      <th>4</th>\n",
       "      <td>2022-06-30</td>\n",
       "      <td>257.050</td>\n",
       "      <td>259.53</td>\n",
       "      <td>252.90</td>\n",
       "      <td>256.83</td>\n",
       "      <td>31730868</td>\n",
       "      <td>256.215</td>\n",
       "    </tr>\n",
       "    <tr>\n",
       "      <th>5</th>\n",
       "      <td>2022-06-29</td>\n",
       "      <td>257.590</td>\n",
       "      <td>261.97</td>\n",
       "      <td>255.76</td>\n",
       "      <td>260.26</td>\n",
       "      <td>20069839</td>\n",
       "      <td>258.865</td>\n",
       "    </tr>\n",
       "    <tr>\n",
       "      <th>6</th>\n",
       "      <td>2022-06-28</td>\n",
       "      <td>263.980</td>\n",
       "      <td>266.91</td>\n",
       "      <td>256.32</td>\n",
       "      <td>256.48</td>\n",
       "      <td>27380247</td>\n",
       "      <td>261.615</td>\n",
       "    </tr>\n",
       "    <tr>\n",
       "      <th>7</th>\n",
       "      <td>2022-06-27</td>\n",
       "      <td>268.205</td>\n",
       "      <td>268.30</td>\n",
       "      <td>263.28</td>\n",
       "      <td>264.89</td>\n",
       "      <td>24615114</td>\n",
       "      <td>265.790</td>\n",
       "    </tr>\n",
       "    <tr>\n",
       "      <th>8</th>\n",
       "      <td>2022-06-24</td>\n",
       "      <td>261.808</td>\n",
       "      <td>267.98</td>\n",
       "      <td>261.72</td>\n",
       "      <td>267.70</td>\n",
       "      <td>33923231</td>\n",
       "      <td>264.850</td>\n",
       "    </tr>\n",
       "    <tr>\n",
       "      <th>9</th>\n",
       "      <td>2022-06-23</td>\n",
       "      <td>255.570</td>\n",
       "      <td>259.37</td>\n",
       "      <td>253.63</td>\n",
       "      <td>258.86</td>\n",
       "      <td>25861449</td>\n",
       "      <td>256.500</td>\n",
       "    </tr>\n",
       "    <tr>\n",
       "      <th>10</th>\n",
       "      <td>2022-06-22</td>\n",
       "      <td>251.890</td>\n",
       "      <td>257.17</td>\n",
       "      <td>250.37</td>\n",
       "      <td>253.13</td>\n",
       "      <td>25961215</td>\n",
       "      <td>253.770</td>\n",
       "    </tr>\n",
       "  </tbody>\n",
       "</table>\n",
       "</div>"
      ],
      "text/plain": [
       "0   timestamp     open    high     low   close    volume  average_value\n",
       "1  2022-07-06  263.750  267.99  262.40  266.21  23824419        265.195\n",
       "2  2022-07-05  256.160  262.98  254.74  262.85  22971634        258.860\n",
       "3  2022-07-01  256.390  259.77  254.61  259.58  22837692        257.190\n",
       "4  2022-06-30  257.050  259.53  252.90  256.83  31730868        256.215\n",
       "5  2022-06-29  257.590  261.97  255.76  260.26  20069839        258.865\n",
       "6  2022-06-28  263.980  266.91  256.32  256.48  27380247        261.615\n",
       "7  2022-06-27  268.205  268.30  263.28  264.89  24615114        265.790\n",
       "8  2022-06-24  261.808  267.98  261.72  267.70  33923231        264.850\n",
       "9  2022-06-23  255.570  259.37  253.63  258.86  25861449        256.500\n",
       "10 2022-06-22  251.890  257.17  250.37  253.13  25961215        253.770"
      ]
     },
     "execution_count": 9,
     "metadata": {},
     "output_type": "execute_result"
    }
   ],
   "source": [
    "# By taking average of the high and low value I am calculating a mid or \n",
    "# average value of the stock for a particular day\n",
    "df['average_value'] = df[['high', 'low']].mean(axis=1)\n",
    "df.head(10)"
   ]
  },
  {
   "cell_type": "code",
   "execution_count": 10,
   "metadata": {},
   "outputs": [
    {
     "data": {
      "text/html": [
       "<div>\n",
       "<style scoped>\n",
       "    .dataframe tbody tr th:only-of-type {\n",
       "        vertical-align: middle;\n",
       "    }\n",
       "\n",
       "    .dataframe tbody tr th {\n",
       "        vertical-align: top;\n",
       "    }\n",
       "\n",
       "    .dataframe thead th {\n",
       "        text-align: right;\n",
       "    }\n",
       "</style>\n",
       "<table border=\"1\" class=\"dataframe\">\n",
       "  <thead>\n",
       "    <tr style=\"text-align: right;\">\n",
       "      <th></th>\n",
       "      <th>timestamp</th>\n",
       "      <th>open</th>\n",
       "      <th>high</th>\n",
       "      <th>low</th>\n",
       "      <th>close</th>\n",
       "      <th>volume</th>\n",
       "      <th>average_value</th>\n",
       "    </tr>\n",
       "  </thead>\n",
       "  <tbody>\n",
       "    <tr>\n",
       "      <th>1</th>\n",
       "      <td>2022-07-06</td>\n",
       "      <td>263.75</td>\n",
       "      <td>267.99</td>\n",
       "      <td>262.40</td>\n",
       "      <td>266.21</td>\n",
       "      <td>23824419</td>\n",
       "      <td>265.195</td>\n",
       "    </tr>\n",
       "    <tr>\n",
       "      <th>2</th>\n",
       "      <td>2022-07-05</td>\n",
       "      <td>256.16</td>\n",
       "      <td>262.98</td>\n",
       "      <td>254.74</td>\n",
       "      <td>262.85</td>\n",
       "      <td>22971634</td>\n",
       "      <td>258.860</td>\n",
       "    </tr>\n",
       "    <tr>\n",
       "      <th>3</th>\n",
       "      <td>2022-07-01</td>\n",
       "      <td>256.39</td>\n",
       "      <td>259.77</td>\n",
       "      <td>254.61</td>\n",
       "      <td>259.58</td>\n",
       "      <td>22837692</td>\n",
       "      <td>257.190</td>\n",
       "    </tr>\n",
       "    <tr>\n",
       "      <th>4</th>\n",
       "      <td>2022-06-30</td>\n",
       "      <td>257.05</td>\n",
       "      <td>259.53</td>\n",
       "      <td>252.90</td>\n",
       "      <td>256.83</td>\n",
       "      <td>31730868</td>\n",
       "      <td>256.215</td>\n",
       "    </tr>\n",
       "    <tr>\n",
       "      <th>5</th>\n",
       "      <td>2022-06-29</td>\n",
       "      <td>257.59</td>\n",
       "      <td>261.97</td>\n",
       "      <td>255.76</td>\n",
       "      <td>260.26</td>\n",
       "      <td>20069839</td>\n",
       "      <td>258.865</td>\n",
       "    </tr>\n",
       "  </tbody>\n",
       "</table>\n",
       "</div>"
      ],
      "text/plain": [
       "0  timestamp    open    high     low   close    volume  average_value\n",
       "1 2022-07-06  263.75  267.99  262.40  266.21  23824419        265.195\n",
       "2 2022-07-05  256.16  262.98  254.74  262.85  22971634        258.860\n",
       "3 2022-07-01  256.39  259.77  254.61  259.58  22837692        257.190\n",
       "4 2022-06-30  257.05  259.53  252.90  256.83  31730868        256.215\n",
       "5 2022-06-29  257.59  261.97  255.76  260.26  20069839        258.865"
      ]
     },
     "execution_count": 10,
     "metadata": {},
     "output_type": "execute_result"
    }
   ],
   "source": [
    "# Rearranging Columns\n",
    "column_titles = ['timestamp','open','high','average_value','low','close','volume']\n",
    "df.reindex(columns = column_titles)\n",
    "df.head()"
   ]
  },
  {
   "cell_type": "code",
   "execution_count": 11,
   "metadata": {},
   "outputs": [
    {
     "data": {
      "text/html": [
       "<div>\n",
       "<style scoped>\n",
       "    .dataframe tbody tr th:only-of-type {\n",
       "        vertical-align: middle;\n",
       "    }\n",
       "\n",
       "    .dataframe tbody tr th {\n",
       "        vertical-align: top;\n",
       "    }\n",
       "\n",
       "    .dataframe thead th {\n",
       "        text-align: right;\n",
       "    }\n",
       "</style>\n",
       "<table border=\"1\" class=\"dataframe\">\n",
       "  <thead>\n",
       "    <tr style=\"text-align: right;\">\n",
       "      <th></th>\n",
       "      <th>index</th>\n",
       "      <th>open</th>\n",
       "      <th>high</th>\n",
       "      <th>low</th>\n",
       "      <th>close</th>\n",
       "      <th>volume</th>\n",
       "      <th>average_value</th>\n",
       "    </tr>\n",
       "    <tr>\n",
       "      <th>timestamp</th>\n",
       "      <th></th>\n",
       "      <th></th>\n",
       "      <th></th>\n",
       "      <th></th>\n",
       "      <th></th>\n",
       "      <th></th>\n",
       "      <th></th>\n",
       "    </tr>\n",
       "  </thead>\n",
       "  <tbody>\n",
       "    <tr>\n",
       "      <th>2022-06-29</th>\n",
       "      <td>5</td>\n",
       "      <td>257.59</td>\n",
       "      <td>261.97</td>\n",
       "      <td>255.76</td>\n",
       "      <td>260.26</td>\n",
       "      <td>20069839</td>\n",
       "      <td>258.865</td>\n",
       "    </tr>\n",
       "    <tr>\n",
       "      <th>2022-06-30</th>\n",
       "      <td>4</td>\n",
       "      <td>257.05</td>\n",
       "      <td>259.53</td>\n",
       "      <td>252.90</td>\n",
       "      <td>256.83</td>\n",
       "      <td>31730868</td>\n",
       "      <td>256.215</td>\n",
       "    </tr>\n",
       "    <tr>\n",
       "      <th>2022-07-01</th>\n",
       "      <td>3</td>\n",
       "      <td>256.39</td>\n",
       "      <td>259.77</td>\n",
       "      <td>254.61</td>\n",
       "      <td>259.58</td>\n",
       "      <td>22837692</td>\n",
       "      <td>257.190</td>\n",
       "    </tr>\n",
       "    <tr>\n",
       "      <th>2022-07-05</th>\n",
       "      <td>2</td>\n",
       "      <td>256.16</td>\n",
       "      <td>262.98</td>\n",
       "      <td>254.74</td>\n",
       "      <td>262.85</td>\n",
       "      <td>22971634</td>\n",
       "      <td>258.860</td>\n",
       "    </tr>\n",
       "    <tr>\n",
       "      <th>2022-07-06</th>\n",
       "      <td>1</td>\n",
       "      <td>263.75</td>\n",
       "      <td>267.99</td>\n",
       "      <td>262.40</td>\n",
       "      <td>266.21</td>\n",
       "      <td>23824419</td>\n",
       "      <td>265.195</td>\n",
       "    </tr>\n",
       "  </tbody>\n",
       "</table>\n",
       "</div>"
      ],
      "text/plain": [
       "0           index    open    high     low   close    volume  average_value\n",
       "timestamp                                                                 \n",
       "2022-06-29      5  257.59  261.97  255.76  260.26  20069839        258.865\n",
       "2022-06-30      4  257.05  259.53  252.90  256.83  31730868        256.215\n",
       "2022-07-01      3  256.39  259.77  254.61  259.58  22837692        257.190\n",
       "2022-07-05      2  256.16  262.98  254.74  262.85  22971634        258.860\n",
       "2022-07-06      1  263.75  267.99  262.40  266.21  23824419        265.195"
      ]
     },
     "execution_count": 11,
     "metadata": {},
     "output_type": "execute_result"
    }
   ],
   "source": [
    "# sort by date\n",
    "df_new = df.copy()\n",
    "df_new = df_new.sort_values('timestamp')\n",
    "\n",
    "# fix the date \n",
    "df_new.reset_index(inplace=True)\n",
    "df_new.set_index(\"timestamp\", inplace=True)\n",
    "\n",
    "df_new.tail()"
   ]
  },
  {
   "cell_type": "code",
   "execution_count": 12,
   "metadata": {},
   "outputs": [
    {
     "data": {
      "image/png": "[encoded data removed]",
      "text/plain": [
       "<Figure size 864x432 with 1 Axes>"
      ]
     },
     "metadata": {
      "needs_background": "light"
     },
     "output_type": "display_data"
    },
    {
     "data": {
      "text/plain": [
       "<matplotlib.legend.Legend at 0x2b274b12c10>"
      ]
     },
     "execution_count": 12,
     "metadata": {},
     "output_type": "execute_result"
    },
    {
     "data": {
      "image/png": "[encoded data removed]",
      "text/plain": [
       "<Figure size 864x432 with 1 Axes>"
      ]
     },
     "metadata": {
      "needs_background": "light"
     },
     "output_type": "display_data"
    }
   ],
   "source": [
    "# Visualizing the training stock data\n",
    "# for time series prediction, first sort the data by date and plotting curve with the rolling mean\n",
    "import matplotlib.pyplot as plt\n",
    "%matplotlib inline\n",
    "\n",
    "plt.figure(figsize = (12,6))\n",
    "plt.plot(df_new[\"close\"])\n",
    "plt.xlabel('timestamp',fontsize=15)\n",
    "plt.ylabel('Adjusted Close Price',fontsize=15)\n",
    "plt.show()\n",
    "\n",
    "\n",
    "# Rolling mean\n",
    "close_px = df_new['close']\n",
    "mavg = close_px.rolling(window=100).mean()\n",
    "\n",
    "plt.figure(figsize = (12,6))\n",
    "close_px.plot(label='MSFT')\n",
    "mavg.plot(label='mavg')\n",
    "plt.xlabel('timestamp')\n",
    "plt.ylabel('Price')\n",
    "plt.legend()"
   ]
  },
  {
   "cell_type": "code",
   "execution_count": null,
   "metadata": {},
   "outputs": [],
   "source": []
  }
 ],
 "metadata": {
  "kernelspec": {
   "display_name": "Python 3",
   "language": "python",
   "name": "python3"
  },
  "language_info": {
   "codemirror_mode": {
    "name": "ipython",
    "version": 3
   },
   "file_extension": ".py",
   "mimetype": "text/x-python",
   "name": "python",
   "nbconvert_exporter": "python",
   "pygments_lexer": "ipython3",
   "version": "3.8.3"
  }
 },
 "nbformat": 4,
 "nbformat_minor": 4
}
